{
  "nbformat": 4,
  "nbformat_minor": 0,
  "metadata": {
    "colab": {
      "name": "Aufgabenblatt-1.ipynb",
      "provenance": [],
      "authorship_tag": "ABX9TyPQyQR2ds47ZYv+nsBFroQ4",
      "include_colab_link": true
    },
    "kernelspec": {
      "name": "python3",
      "display_name": "Python 3"
    }
  },
  "cells": [
    {
      "cell_type": "markdown",
      "metadata": {
        "id": "view-in-github",
        "colab_type": "text"
      },
      "source": [
        "<a href=\"https://colab.research.google.com/github/hey-jeldo/alg_meth/blob/main/Aufgabenblatt_1.ipynb\" target=\"_parent\"><img src=\"https://colab.research.google.com/assets/colab-badge.svg\" alt=\"Open In Colab\"/></a>"
      ]
    },
    {
      "cell_type": "code",
      "metadata": {
        "id": "trOV1wbCJs6Y"
      },
      "source": [
        "import re"
      ],
      "execution_count": null,
      "outputs": []
    },
    {
      "cell_type": "markdown",
      "metadata": {
        "id": "prhjVOx60jQQ"
      },
      "source": [
        "# Aufgabe (1)\n",
        "[3 Punkte]  \n",
        "Weisen Sie einer Variable die Zeichenkette ”Trier, den 3.11.2020\\nMit freundliche Grüßen” zu und geben Sie einen regulären Ausdruck an, der das vollständige Datum extrahiert.  \n",
        "Können Sie mit dem von Ihnen gewählten regulären Ausdruck jeweils auch die Tages-, Monats- und Jahresangabe extrahieren?\n"
      ]
    },
    {
      "cell_type": "code",
      "metadata": {
        "id": "smxJcwHX1WMc",
        "outputId": "366f4660-aadc-4c64-fd96-ddd911d96f15",
        "colab": {
          "base_uri": "https://localhost:8080/"
        }
      },
      "source": [
        "brief_ende = \"Trier, den 3.11.2020\\nMit freundliche Grüßen\"\n",
        "result = re.search(\"((\\d+)[./-](\\d+)[./-](\\d+))\", brief_ende) # [./-] hilft bei MM/DD/YY oder YYYY-MM-DD\n",
        "date = result.group(1)\n",
        "day = result.group(2)\n",
        "month = result.group(3)\n",
        "year = result.group(4)\n",
        "print(date, day, month, year) # gilt nur für DDMMYY(YY)"
      ],
      "execution_count": null,
      "outputs": [
        {
          "output_type": "stream",
          "text": [
            "3.11.2020 3 11 2020\n"
          ],
          "name": "stdout"
        }
      ]
    },
    {
      "cell_type": "markdown",
      "metadata": {
        "id": "0-5xKKmT7C2o"
      },
      "source": [
        "# Aufgabe (2)\n",
        "[3 Punkte]  \n",
        "Weisen Sie einer Variable die Zeichenkette  \n",
        "”Betty bought a bit of butter, But the butter was so bitter, So she\n",
        "bought some better butter, To make the bitter butter better.”  \n",
        "zu und geben Sie einen regulären Ausdruck an, der alle Wörter extrahiert, die mit ’b’ oder ’B’ beginnen."
      ]
    },
    {
      "cell_type": "code",
      "metadata": {
        "id": "QtVacAQs7gTf",
        "outputId": "0a725673-a2fd-4686-f700-5fe31efc523d",
        "colab": {
          "base_uri": "https://localhost:8080/"
        }
      },
      "source": [
        "rhyme = '''\n",
        "Betty bought a bit of butter, But the butter was so bitter, \n",
        "So she bought some better butter, To make the bitter butter better.'''\n",
        "print(re.findall(\"[Bb]\\w+\", rhyme))"
      ],
      "execution_count": null,
      "outputs": [
        {
          "output_type": "stream",
          "text": [
            "['Betty', 'bought', 'bit', 'butter', 'But', 'butter', 'bitter', 'bought', 'better', 'butter', 'bitter', 'butter', 'better']\n"
          ],
          "name": "stdout"
        }
      ]
    },
    {
      "cell_type": "markdown",
      "metadata": {
        "id": "lzMnv4Lo9SUY"
      },
      "source": [
        "# Aufgabe (3)\n",
        "[4 Punkte]  \n",
        "Geben Sie einen regulären Ausdruck an, der aus einem Text, der eine Email-Adresse enhält diese Email-Adresse extrahiert.  \n",
        "Achten Sie darauf, dass Sie auch auf die user-id, die Domäne und den Suffix zugreifen können."
      ]
    },
    {
      "cell_type": "code",
      "metadata": {
        "id": "pEeZ1sZlAo46",
        "outputId": "0055a43a-47ae-47e2-b7bf-985eb2ff0988",
        "colab": {
          "base_uri": "https://localhost:8080/"
        }
      },
      "source": [
        "zeile = \"Bitte senden Sie mir eine E-Mail an jeldo.meppen+uni@google-mail.co.uk oder jeldo@hey.com\"\n",
        "result = re.findall(\"(([\\w\\.\\-]+)\\+?[\\w]*@([\\w\\-]+)(\\.[\\w]+\\.?[\\w]*))\", zeile)\n",
        "print(result)"
      ],
      "execution_count": null,
      "outputs": [
        {
          "output_type": "stream",
          "text": [
            "[('jeldo.meppen+uni@google-mail.co.uk', 'jeldo.meppen', 'google-mail', '.co.uk'), ('jeldo@hey.com', 'jeldo', 'hey', '.com')]\n"
          ],
          "name": "stdout"
        }
      ]
    },
    {
      "cell_type": "markdown",
      "metadata": {
        "id": "SFW-lx8UD27z"
      },
      "source": [
        "# Aufgabe (4)\n",
        "[4 Punkte]  \n",
        "Geben sei die folgende Zeichenkette, die unnötige Leerzeichen/Tabs und überflüssige Interpunktionszeichen enthält:\n",
        "\n",
        "```\n",
        "   Dieser,     Anblick   spottet;    jeder  Beschreibung,!\n",
        "```\n",
        "Geben Sie einen Ausdruck an, der diese Zeichen entfernt.  \n",
        "Die Wunschausgabe ist also:\n",
        "```\n",
        "Dieser Anblick spottet jeder Beschreibung !\n",
        "```"
      ]
    },
    {
      "cell_type": "code",
      "metadata": {
        "id": "mbgUDoL9E-W8",
        "outputId": "d74c9db0-c4bc-4660-85ba-0cd87544c277",
        "colab": {
          "base_uri": "https://localhost:8080/"
        }
      },
      "source": [
        "text = \"   Dieser,     Anblick   spottet;    jeder  Beschreibung,!  \"\n",
        "result = re.findall(\"([^\\s,;]+)\", text)\n",
        "print(*result)"
      ],
      "execution_count": null,
      "outputs": [
        {
          "output_type": "stream",
          "text": [
            "Dieser Anblick spottet jeder Beschreibung !\n"
          ],
          "name": "stdout"
        }
      ]
    }
  ]
}
