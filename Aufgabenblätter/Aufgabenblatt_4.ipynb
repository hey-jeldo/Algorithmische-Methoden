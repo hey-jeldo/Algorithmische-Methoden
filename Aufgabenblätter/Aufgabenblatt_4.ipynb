{
 "metadata": {
  "language_info": {
   "codemirror_mode": {
    "name": "ipython",
    "version": 3
   },
   "file_extension": ".py",
   "mimetype": "text/x-python",
   "name": "python",
   "nbconvert_exporter": "python",
   "pygments_lexer": "ipython3",
   "version": "3.8.5-final"
  },
  "orig_nbformat": 2,
  "kernelspec": {
   "name": "python3",
   "display_name": "Python 3"
  }
 },
 "nbformat": 4,
 "nbformat_minor": 2,
 "cells": [
  {
   "source": [
    "Import aller wichtigen Bibliotheken:"
   ],
   "cell_type": "markdown",
   "metadata": {}
  },
  {
   "cell_type": "code",
   "execution_count": 1,
   "metadata": {},
   "outputs": [],
   "source": [
    "import re\n",
    "import os\n",
    "import nltk\n",
    "from nltk.corpus import PlaintextCorpusReader"
   ]
  },
  {
   "source": [
    "Erstellung eines Korpus:"
   ],
   "cell_type": "markdown",
   "metadata": {}
  },
  {
   "source": [
    "corpus_dir = os.getcwd() + \"/data\"\n",
    "corpus_txts = \".+\\.txt\"\n",
    "korpus = PlaintextCorpusReader(corpus_dir, corpus_txts, encoding=\"utf-8\")\n",
    "print(korpus.fileids())"
   ],
   "cell_type": "code",
   "metadata": {},
   "execution_count": 2,
   "outputs": [
    {
     "output_type": "stream",
     "name": "stdout",
     "text": [
      "['bushido.txt', 'corbyn.txt', 'corona.txt', 'stoppworte.txt', 'trump.txt']\n"
     ]
    }
   ]
  }
 ]
}