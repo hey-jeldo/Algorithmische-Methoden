{
 "cells": [
  {
   "cell_type": "markdown",
   "metadata": {
    "colab_type": "text",
    "id": "view-in-github"
   },
   "source": [
    "<a href=\"https://colab.research.google.com/github/hey-jeldo/alg_meth/blob/main/Aufgabenblatt_1.ipynb\" target=\"_parent\"><img src=\"https://colab.research.google.com/assets/colab-badge.svg\" alt=\"Open In Colab\"/></a>"
   ]
  },
  {
   "cell_type": "code",
   "execution_count": 1,
   "metadata": {
    "id": "trOV1wbCJs6Y"
   },
   "outputs": [],
   "source": [
    "import re"
   ]
  },
  {
   "cell_type": "markdown",
   "metadata": {
    "id": "prhjVOx60jQQ"
   },
   "source": [
    "# Aufgabe (1)\n",
    "[3 Punkte]  \n",
    "Weisen Sie einer Variable die Zeichenkette ”Trier, den 3.11.2020\\nMit freundliche Grüßen” zu und geben Sie einen regulären Ausdruck an, der das vollständige Datum extrahiert.  \n",
    "Können Sie mit dem von Ihnen gewählten regulären Ausdruck jeweils auch die Tages-, Monats- und Jahresangabe extrahieren?\n"
   ]
  },
  {
   "cell_type": "code",
   "execution_count": 2,
   "metadata": {
    "colab": {
     "base_uri": "https://localhost:8080/"
    },
    "id": "smxJcwHX1WMc",
    "outputId": "366f4660-aadc-4c64-fd96-ddd911d96f15"
   },
   "outputs": [
    {
     "name": "stdout",
     "output_type": "stream",
     "text": [
      "3.11.2020 3 11 2020\n"
     ]
    }
   ],
   "source": [
    "brief_ende = \"Trier, den 3.11.2020\\nMit freundliche Grüßen\"\n",
    "result = re.search(\"((\\d+)[./-](\\d+)[./-](\\d+))\", brief_ende) # [./-] hilft bei MM/DD/YY oder YYYY-MM-DD\n",
    "date = result.group(1)\n",
    "day = result.group(2)\n",
    "month = result.group(3)\n",
    "year = result.group(4)\n",
    "print(date, day, month, year) # gilt nur für DDMMYY(YY)"
   ]
  },
  {
   "cell_type": "markdown",
   "metadata": {
    "id": "0-5xKKmT7C2o"
   },
   "source": [
    "# Aufgabe (2)\n",
    "[3 Punkte]  \n",
    "Weisen Sie einer Variable die Zeichenkette  \n",
    "”Betty bought a bit of butter, But the butter was so bitter, So she\n",
    "bought some better butter, To make the bitter butter better.”  \n",
    "zu und geben Sie einen regulären Ausdruck an, der alle Wörter extrahiert, die mit ’b’ oder ’B’ beginnen."
   ]
  },
  {
   "cell_type": "code",
   "execution_count": null,
   "metadata": {
    "colab": {
     "base_uri": "https://localhost:8080/"
    },
    "id": "QtVacAQs7gTf",
    "outputId": "0a725673-a2fd-4686-f700-5fe31efc523d"
   },
   "outputs": [
    {
     "name": "stdout",
     "output_type": "stream",
     "text": [
      "['Betty', 'bought', 'bit', 'butter', 'But', 'butter', 'bitter', 'bought', 'better', 'butter', 'bitter', 'butter', 'better']\n"
     ]
    }
   ],
   "source": [
    "rhyme = '''\n",
    "Betty bought a bit of butter, But the butter was so bitter, \n",
    "So she bought some better butter, To make the bitter butter better.'''\n",
    "print(re.findall(\"[Bb]\\w+\", rhyme))"
   ]
  },
  {
   "cell_type": "markdown",
   "metadata": {
    "id": "lzMnv4Lo9SUY"
   },
   "source": [
    "# Aufgabe (3)\n",
    "[4 Punkte]  \n",
    "Geben Sie einen regulären Ausdruck an, der aus einem Text, der eine Email-Adresse enhält diese Email-Adresse extrahiert.  \n",
    "Achten Sie darauf, dass Sie auch auf die user-id, die Domäne und den Suffix zugreifen können."
   ]
  },
  {
   "cell_type": "code",
   "execution_count": null,
   "metadata": {
    "colab": {
     "base_uri": "https://localhost:8080/"
    },
    "id": "pEeZ1sZlAo46",
    "outputId": "0055a43a-47ae-47e2-b7bf-985eb2ff0988"
   },
   "outputs": [
    {
     "name": "stdout",
     "output_type": "stream",
     "text": [
      "[('jeldo.meppen+uni@google-mail.co.uk', 'jeldo.meppen', 'google-mail', '.co.uk'), ('jeldo@hey.com', 'jeldo', 'hey', '.com')]\n"
     ]
    }
   ],
   "source": [
    "zeile = \"Bitte senden Sie mir eine E-Mail an jeldo.meppen+uni@google-mail.co.uk oder jeldo@hey.com\"\n",
    "result = re.findall(\"(([\\w\\.\\-]+)\\+?[\\w]*@([\\w\\-]+)(\\.[\\w]+\\.?[\\w]*))\", zeile)\n",
    "print(result)"
   ]
  },
  {
   "cell_type": "markdown",
   "metadata": {
    "id": "SFW-lx8UD27z"
   },
   "source": [
    "# Aufgabe (4)\n",
    "[4 Punkte]  \n",
    "Geben sei die folgende Zeichenkette, die unnötige Leerzeichen/Tabs und überflüssige Interpunktionszeichen enthält:\n",
    "\n",
    "```\n",
    "   Dieser,     Anblick   spottet;    jeder  Beschreibung,!\n",
    "```\n",
    "Geben Sie einen Ausdruck an, der diese Zeichen entfernt.  \n",
    "Die Wunschausgabe ist also:\n",
    "```\n",
    "Dieser Anblick spottet jeder Beschreibung !\n",
    "```"
   ]
  },
  {
   "cell_type": "code",
   "execution_count": null,
   "metadata": {
    "colab": {
     "base_uri": "https://localhost:8080/"
    },
    "id": "mbgUDoL9E-W8",
    "outputId": "d74c9db0-c4bc-4660-85ba-0cd87544c277"
   },
   "outputs": [
    {
     "name": "stdout",
     "output_type": "stream",
     "text": [
      "Dieser Anblick spottet jeder Beschreibung !\n"
     ]
    }
   ],
   "source": [
    "text = \"   Dieser,     Anblick   spottet;    jeder  Beschreibung,!  \"\n",
    "result = re.findall(\"([^\\s,;]+)\", text)\n",
    "print(*result)"
   ]
  }
 ],
 "metadata": {
  "colab": {
   "authorship_tag": "ABX9TyPQyQR2ds47ZYv+nsBFroQ4",
   "include_colab_link": true,
   "name": "Aufgabenblatt-1.ipynb",
   "provenance": []
  },
  "kernelspec": {
   "display_name": "Python 3",
   "language": "python",
   "name": "python3"
  },
  "language_info": {
   "codemirror_mode": {
    "name": "ipython",
    "version": 3
   },
   "file_extension": ".py",
   "mimetype": "text/x-python",
   "name": "python",
   "nbconvert_exporter": "python",
   "pygments_lexer": "ipython3",
   "version": "3.6.6+"
  }
 },
 "nbformat": 4,
 "nbformat_minor": 1
}
