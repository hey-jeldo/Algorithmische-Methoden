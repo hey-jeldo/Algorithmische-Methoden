{
 "cells": [
  {
   "cell_type": "code",
   "execution_count": 1,
   "metadata": {},
   "outputs": [],
   "source": [
    "import re\n",
    "import os\n",
    "import matplotlib\n",
    "import nltk\n",
    "from nltk.corpus import PlaintextCorpusReader"
   ]
  },
  {
   "cell_type": "markdown",
   "metadata": {},
   "source": [
    "# Aufgabe 1"
   ]
  },
  {
   "cell_type": "markdown",
   "metadata": {},
   "source": [
    "Arbeitsverzeichnis laden und in den  Unterordner '/data' gehen:"
   ]
  },
  {
   "cell_type": "code",
   "execution_count": 2,
   "metadata": {},
   "outputs": [],
   "source": [
    "corpus_dir = os.getcwd() + \"/data\""
   ]
  },
  {
   "cell_type": "markdown",
   "metadata": {},
   "source": [
    "Alle txt-Dateien in '/data' matchen:"
   ]
  },
  {
   "cell_type": "code",
   "execution_count": 3,
   "metadata": {},
   "outputs": [],
   "source": [
    "corpus_texts = \".+\\.txt\""
   ]
  },
  {
   "cell_type": "markdown",
   "metadata": {},
   "source": [
    "Alle Texte aus '/data' als Korpus der Variable 'mein_korpus' zuweisen:"
   ]
  },
  {
   "cell_type": "code",
   "execution_count": 4,
   "metadata": {},
   "outputs": [],
   "source": [
    "mein_korpus = PlaintextCorpusReader(corpus_dir, corpus_texts, encoding='utf-8')"
   ]
  },
  {
   "cell_type": "markdown",
   "metadata": {},
   "source": [
    "Überprüfen ob Korpusbildung erfolgreich war:"
   ]
  },
  {
   "cell_type": "code",
   "execution_count": 5,
   "metadata": {},
   "outputs": [
    {
     "name": "stdout",
     "output_type": "stream",
     "text": [
      "['bushido.txt', 'corbyn.txt', 'corona.txt', 'trump.txt']\n"
     ]
    }
   ],
   "source": [
    "print(mein_korpus.fileids())"
   ]
  },
  {
   "cell_type": "markdown",
   "metadata": {},
   "source": [
    "# Aufgabe 2.1"
   ]
  },
  {
   "cell_type": "markdown",
   "metadata": {},
   "source": [
    "Die Texte in ein Dictionary ablegen:"
   ]
  },
  {
   "cell_type": "code",
   "execution_count": 6,
   "metadata": {},
   "outputs": [],
   "source": [
    "corpus_dict = {\n",
    "    \"Trump:\" : mein_korpus.words('trump.txt'),\n",
    "    \"Bushido:\" : mein_korpus.words('bushido.txt'),\n",
    "    \"Corbyn:\" : mein_korpus.words('corbyn.txt'),\n",
    "    \"Corona:\" : mein_korpus.words('corona.txt')\n",
    "}"
   ]
  },
  {
   "cell_type": "markdown",
   "metadata": {},
   "source": [
    "Länge und Umfang der Texte drucken in dem ich durch das Dict iteriere:"
   ]
  },
  {
   "cell_type": "code",
   "execution_count": 7,
   "metadata": {},
   "outputs": [
    {
     "name": "stdout",
     "output_type": "stream",
     "text": [
      "Text über Trump: \tLänge: 1285 \tUmfang: 545\n",
      "Text über Bushido: \tLänge: 617 \tUmfang: 301\n",
      "Text über Corbyn: \tLänge: 427 \tUmfang: 249\n",
      "Text über Corona: \tLänge: 820 \tUmfang: 435\n",
      "Alle Texte:\t\tLänge: 3149 \tUmfang: 1187\n"
     ]
    }
   ],
   "source": [
    "for text in corpus_dict:\n",
    "    print('Text über', text, '\\tLänge:', len(corpus_dict[text]), '\\tUmfang:', len(set(corpus_dict[text])))\n",
    "\n",
    "all = corpus_dict[\"Trump:\"] + corpus_dict[\"Bushido:\"] + corpus_dict[\"Corbyn:\"] + corpus_dict[\"Corona:\"]\n",
    "print(\"Alle Texte:\\t\\tLänge:\", len(all), \"\\tUmfang:\", len(set(all)))"
   ]
  },
  {
   "cell_type": "markdown",
   "metadata": {},
   "source": [
    "# Aufgabe 2.2"
   ]
  },
  {
   "cell_type": "code",
   "execution_count": 8,
   "metadata": {},
   "outputs": [
    {
     "name": "stdout",
     "output_type": "stream",
     "text": [
      "<FreqDist with 1187 samples and 3149 outcomes>\n"
     ]
    }
   ],
   "source": [
    "fd = nltk.FreqDist(all)\n",
    "print(fd)"
   ]
  },
  {
   "cell_type": "code",
   "execution_count": null,
   "metadata": {},
   "outputs": [],
   "source": []
  }
 ],
 "metadata": {
  "kernelspec": {
   "display_name": "Python 3",
   "language": "python",
   "name": "python3"
  },
  "language_info": {
   "codemirror_mode": {
    "name": "ipython",
    "version": 3
   },
   "file_extension": ".py",
   "mimetype": "text/x-python",
   "name": "python",
   "nbconvert_exporter": "python",
   "pygments_lexer": "ipython3",
   "version": "3.6.6+"
  }
 },
 "nbformat": 4,
 "nbformat_minor": 2
}
